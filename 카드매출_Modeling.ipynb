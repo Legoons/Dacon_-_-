{
 "cells": [
  {
   "cell_type": "code",
   "execution_count": 1,
   "metadata": {},
   "outputs": [],
   "source": [
    "import pandas as pd\n",
    "import numpy as np\n",
    "import sklearn\n",
    "from sklearn.ensemble import RandomForestRegressor\n",
    "from sklearn.preprocessing import LabelEncoder\n",
    "from sklearn.linear_model import Lasso\n",
    "from lightgbm import LGBMClassifier\n",
    "import lightgbm as lgb\n",
    "\n",
    "import warnings\n",
    " \n",
    "warnings.filterwarnings(\"ignore\")"
   ]
  },
  {
   "cell_type": "code",
   "execution_count": 2,
   "metadata": {},
   "outputs": [
    {
     "name": "stdout",
     "output_type": "stream",
     "text": [
      "Pandas : 0.25.3\n",
      "Numpy : 1.16.5\n",
      "Scikit-Learn : 0.23.1\n"
     ]
    },
    {
     "name": "stderr",
     "output_type": "stream",
     "text": [
      "Python 3.6.9 :: Anaconda, Inc.\n"
     ]
    }
   ],
   "source": [
    "print('Pandas : %s'%(pd.__version__))\n",
    "print('Numpy : %s'%(np.__version__))\n",
    "print('Scikit-Learn : %s'%(sklearn.__version__))\n",
    "!python --version"
   ]
  },
  {
   "cell_type": "markdown",
   "metadata": {},
   "source": [
    "## 1. Dataset Load"
   ]
  },
  {
   "cell_type": "code",
   "execution_count": 3,
   "metadata": {},
   "outputs": [],
   "source": [
    "def grap_year(data):\n",
    "    data = str(data)\n",
    "    return int(data[:4])\n",
    "\n",
    "def grap_month(data):\n",
    "    data = str(data)\n",
    "    return int(data[4:])"
   ]
  },
  {
   "cell_type": "code",
   "execution_count": 5,
   "metadata": {},
   "outputs": [],
   "source": [
    "# 201901-202003 과 202004 병합\n",
    "data1 = pd.read_csv('C:/Users/kyh20/Downloads/jeju_data_ver1/201901-202003.csv')\n",
    "data2 = pd.read_csv('C:/Users/kyh20/Downloads/jeju_data_ver1/202004.csv')\n",
    "data = pd.concat([data1, data2], ignore_index = True)"
   ]
  },
  {
   "cell_type": "code",
   "execution_count": 6,
   "metadata": {},
   "outputs": [],
   "source": [
    "sample = data.sample(frac=0.1, random_state=2019)\n",
    "sample = sample.fillna('')\n",
    "sample['year'] = sample['REG_YYMM'].apply(lambda x: grap_year(x))\n",
    "sample['month'] = sample['REG_YYMM'].apply(lambda x: grap_month(x))\n",
    "sample = sample.sort_values(by=['REG_YYMM'], axis=0)\n",
    "for idx,date in enumerate(sample['REG_YYMM'].unique()):\n",
    "    sample.loc[sample['REG_YYMM']==date,'new_date'] = idx+1"
   ]
  },
  {
   "cell_type": "markdown",
   "metadata": {},
   "source": [
    "## 2. Feature Engineering & Initial Modeling"
   ]
  },
  {
   "cell_type": "code",
   "execution_count": 5,
   "metadata": {},
   "outputs": [],
   "source": [
    "df = sample.copy()\n",
    "df = df.drop(['CARD_CCG_NM', 'HOM_CCG_NM'], axis=1)\n",
    "\n",
    "columns = ['CARD_SIDO_NM', 'STD_CLSS_NM', 'HOM_SIDO_NM', 'AGE', 'SEX_CTGO_CD', 'FLC', 'year', 'month', 'REG_YYMM']\n",
    "df = df.groupby(columns).sum().reset_index(drop=False)"
   ]
  },
  {
   "cell_type": "code",
   "execution_count": 6,
   "metadata": {},
   "outputs": [],
   "source": [
    "# 인코딩\n",
    "dtypes = df.dtypes\n",
    "encoders = {}\n",
    "for column in df.columns:\n",
    "    if str(dtypes[column]) == 'object':\n",
    "        encoder = LabelEncoder()\n",
    "        encoder.fit(df[column])\n",
    "        encoders[column] = encoder\n",
    "        \n",
    "\n",
    "df_num = df.copy()\n",
    "for column in encoders.keys():\n",
    "    encoder = encoders[column]\n",
    "    df_num[column] = encoder.transform(df[column])"
   ]
  },
  {
   "cell_type": "code",
   "execution_count": 7,
   "metadata": {},
   "outputs": [],
   "source": [
    "train_num = df_num.sample(frac=1, random_state=0)\n",
    "x = train_num.drop(['CSTMR_CNT', 'AMT', 'CNT'], axis=1)\n",
    "y = train_num.drop(['CARD_SIDO_NM', 'STD_CLSS_NM', 'HOM_SIDO_NM', 'AGE', 'SEX_CTGO_CD', 'FLC', 'year', 'month','CSTMR_CNT', 'CNT'], axis=1)"
   ]
  },
  {
   "cell_type": "code",
   "execution_count": 8,
   "metadata": {},
   "outputs": [],
   "source": [
    "x = x.reset_index()\n",
    "y = y.reset_index()"
   ]
  },
  {
   "cell_type": "code",
   "execution_count": 10,
   "metadata": {},
   "outputs": [],
   "source": [
    "x = x.drop(['index'], axis=1)\n",
    "y = y.drop(['index'], axis=1)"
   ]
  },
  {
   "cell_type": "code",
   "execution_count": 34,
   "metadata": {},
   "outputs": [],
   "source": [
    "train_X = x.loc[x['REG_YYMM']!=202003]\n",
    "train_y = y.loc[y['REG_YYMM']!=202003]\n",
    "test_X = x.loc[x['REG_YYMM']==202003]\n",
    "test_y = y.loc[y['REG_YYMM']==202003]"
   ]
  },
  {
   "cell_type": "code",
   "execution_count": 35,
   "metadata": {},
   "outputs": [],
   "source": [
    "train_X['year'] = train_X['year'].apply(lambda x : 0 if x == 2019 else 1)\n",
    "test_X['year'] = test_X['year'].apply(lambda x : 0 if x == 2019 else 1)"
   ]
  },
  {
   "cell_type": "code",
   "execution_count": 36,
   "metadata": {},
   "outputs": [],
   "source": [
    "train_X = train_X.drop(['REG_YYMM'], axis=1)\n",
    "train_y = train_y.drop(['REG_YYMM'], axis=1)\n",
    "test_X = test_X.drop(['REG_YYMM'], axis=1)\n",
    "test_y = test_y.drop(['REG_YYMM'], axis=1)"
   ]
  },
  {
   "cell_type": "code",
   "execution_count": 37,
   "metadata": {},
   "outputs": [],
   "source": [
    "Cardsido = df_num['CARD_SIDO_NM'].unique()\n",
    "Stdclss = df_num['STD_CLSS_NM'].unique()"
   ]
  },
  {
   "cell_type": "code",
   "execution_count": 38,
   "metadata": {},
   "outputs": [],
   "source": [
    "train_num = df_num.sample(frac=1, random_state=0)\n",
    "train_features = train_num.drop(['CSTMR_CNT', 'AMT', 'CNT', 'REG_YYMM', 'AGE', 'SEX_CTGO_CD', 'FLC'], axis=1)"
   ]
  },
  {
   "cell_type": "code",
   "execution_count": 39,
   "metadata": {},
   "outputs": [
    {
     "data": {
      "text/plain": [
       "Index(['CARD_SIDO_NM', 'STD_CLSS_NM', 'HOM_SIDO_NM', 'year', 'month'], dtype='object')"
      ]
     },
     "execution_count": 39,
     "metadata": {},
     "output_type": "execute_result"
    }
   ],
   "source": [
    "train_features.columns"
   ]
  },
  {
   "cell_type": "markdown",
   "metadata": {},
   "source": [
    "## 3. Modeling"
   ]
  },
  {
   "cell_type": "code",
   "execution_count": 47,
   "metadata": {},
   "outputs": [],
   "source": [
    "# 예측 템플릿 만들기\n",
    "CARD_SIDO_NMs = df_num['CARD_SIDO_NM'].unique()\n",
    "STD_CLSS_NMs  = df_num['STD_CLSS_NM'].unique()\n",
    "HOM_SIDO_NMs  = df_num['HOM_SIDO_NM'].unique()\n",
    "years         = [1]\n",
    "months        = [4, 7]\n",
    "\n",
    "temp = []\n",
    "for CARD_SIDO_NM in CARD_SIDO_NMs:\n",
    "    for STD_CLSS_NM in STD_CLSS_NMs:\n",
    "        for HOM_SIDO_NM in HOM_SIDO_NMs:\n",
    "            for year in years:\n",
    "                for month in months:\n",
    "                    temp.append([CARD_SIDO_NM, STD_CLSS_NM, HOM_SIDO_NM, year, month])\n",
    "temp = np.array(temp)\n",
    "temp = pd.DataFrame(data=temp, columns=train_features.columns)"
   ]
  },
  {
   "cell_type": "code",
   "execution_count": 41,
   "metadata": {},
   "outputs": [],
   "source": [
    "case = pd.DataFrame(columns=['CARD_SIDO_NM', 'STD_CLSS_NM', 'HOM_SIDO_NM', 'year', 'month', 'AMT'])\n",
    "train_X = train_X.drop(['AGE', 'SEX_CTGO_CD', 'FLC'], axis=1)\n",
    "test_X = test_X.drop(['AGE', 'SEX_CTGO_CD', 'FLC'], axis=1)"
   ]
  },
  {
   "cell_type": "code",
   "execution_count": 42,
   "metadata": {},
   "outputs": [],
   "source": [
    "for i in Cardsido:\n",
    "    for j in Stdclss:\n",
    "        #시와 종류가 같은 항목끼리 묶어서 따로따로 예측\n",
    "        trainset = train_X.loc[train_X['CARD_SIDO_NM'] == i]\n",
    "        trainset = trainset.loc[trainset['STD_CLSS_NM'] == j]\n",
    "        #train_y에서 i,j 행만 trainset과 병합\n",
    "        train_merge = pd.merge(trainset, train_y, how='outer', left_index = True, right_index = True).dropna(axis=0)\n",
    "        new_train_X = train_merge.drop(['AMT'], axis=1).astype(int)\n",
    "        new_train_y = np.log1p(train_merge['AMT']).astype(int)\n",
    "        \n",
    "        testset = test_X.loc[test_X['CARD_SIDO_NM'] == i]\n",
    "        testset = testset.loc[testset['STD_CLSS_NM'] == j]\n",
    "        test_merge = pd.merge(testset, test_y, how='outer', left_index = True, right_index = True).dropna(axis=0)\n",
    "        new_test_X = test_merge.drop(['AMT'], axis=1).astype(int)\n",
    "        new_test_y = np.log1p(test_merge['AMT']).astype(int)\n",
    "        \n",
    "        \n",
    "        if len(train_merge) or len(test_merge) != 0:\n",
    "            lgb = LGBMClassifier(n_estimators=200)\n",
    "            lgb.fit(new_train_X, new_train_y)\n",
    "            #model = RandomForestRegressor(n_estimators=100,criterion='mse', random_state=777)\n",
    "            #model.fit(new_train_X, new_train_y)\n",
    "            \n",
    "            temp1 = temp.loc[temp['CARD_SIDO_NM'] == i]\n",
    "            temp1 = temp1.loc[temp1['STD_CLSS_NM'] == j]\n",
    "            # 예측\n",
    "            pred = lgb.predict(temp1)\n",
    "            pred = np.expm1(pred)\n",
    "            temp1['AMT'] = np.round(pred, 0)\n",
    "            case = pd.concat([case, temp1])\n",
    "            \n",
    "#temp['REG_YYMM'] = temp['year']*100 + temp['month']\n",
    "#temp = temp[['REG_YYMM', 'CARD_SIDO_NM', 'STD_CLSS_NM', 'AMT']]\n",
    "#temp = temp.groupby(['REG_YYMM', 'CARD_SIDO_NM', 'STD_CLSS_NM']).sum().reset_index(drop=False)\n",
    "            \n",
    "            \n",
    "            #print(\"훈련 세트의 정확도 : {:.2f}\".format(model.score(new_train_X, new_train_y)))\n",
    "            #print(\"테스트 세트의 정확도 : {:.2f}\".format(model.score(new_test_X, new_test_y)))\n",
    "            \n",
    "            #lasso = Lasso().fit(new_train_X, new_train_y)\n",
    "        \n",
    "            #print(\"훈련 세트의 정확도 : {:.2f}\".format(lasso.score(new_train_X, new_train_y)))\n",
    "            #print(\"테스트 세트의 정확도 : {:.2f}\".format(lasso.score(new_test_X, new_test_y)))"
   ]
  },
  {
   "cell_type": "code",
   "execution_count": 22,
   "metadata": {},
   "outputs": [
    {
     "name": "stdout",
     "output_type": "stream",
     "text": [
      "3.534037045318257\n"
     ]
    }
   ],
   "source": [
    "# 빈case에 예측값 삽입\n",
    "case['REG_YYMM'] = case['year']*100 + case['month']\n",
    "case = case[['REG_YYMM', 'CARD_SIDO_NM', 'STD_CLSS_NM', 'AMT']]\n",
    "case = case.groupby(['REG_YYMM', 'CARD_SIDO_NM', 'STD_CLSS_NM']).sum().reset_index(drop=False)\n",
    "\n",
    "# param_test 에 실데이터 삽입\n",
    "param_test = pd.merge(test_X, test_y, how='outer', left_index = True, right_index = True).dropna(axis=0)\n",
    "param_test['REG_YYMM'] = (param_test['year']+2019)*100 + param_test['month']\n",
    "param_test = param_test[['REG_YYMM', 'CARD_SIDO_NM', 'STD_CLSS_NM', 'AMT']]\n",
    "param_test = param_test.groupby(['REG_YYMM', 'CARD_SIDO_NM', 'STD_CLSS_NM']).sum().reset_index(drop=False)\n",
    "\n",
    "# 두 데이터셋 병합\n",
    "total_merge = pd.merge(case, param_test, how='outer', left_index = True, right_index = True, on=['CARD_SIDO_NM', 'STD_CLSS_NM']).dropna(axis=0)\n",
    "\n",
    "# 예측값과 실데이터값 rmsle 비교\n",
    "from sklearn.metrics import mean_squared_log_error\n",
    "rmsle = np.sqrt(mean_squared_log_error(total_merge['AMT_x'], total_merge['AMT_y']))\n",
    "\n",
    "print(rmsle)\n",
    "\n",
    "\n",
    "# 안지운값   3.558605188043879\n",
    "# hom_sido_nm   3.6938316890017133\n",
    "# age   3.643511587631316\n",
    "# SEX_CTGO_CD   3.5445778872947615\n",
    "# FLC   3.6582534629098964\n",
    "# hom_sido_nm, age  3.7523989747241586\n",
    "# 'HOM_SIDO_NM', 'SEX_CTGO_CD'   3.6471233688402265\n",
    "# 'HOM_SIDO_NM, FLC   3.76090413624393\n",
    "# 'AGE', 'SEX_CTGO_CD'   3.6173784835646954\n",
    "# 'AGE', 'FLC'    3.4564127536127804\n",
    "# 'SEX_CTGO_CD', 'FLC'    3.6231624717275013\n",
    "# 'HOM_SIDO_NM', 'AGE', 'SEX_CTGO_CD'   3.6983336706301317\n",
    "# 'HOM_SIDO_NM', 'AGE', 'FLC'   3.565750581551223\n",
    "# 'HOM_SIDO_NM', 'SEX_CTGO_CD', 'FLC'    3.699553528734567\n",
    "# 'AGE', 'SEX_CTGO_CD', 'FLC'   3.4386450073516523\n",
    "# 'HOM_SIDO_NM', 'AGE', 'SEX_CTGO_CD', 'FLC'   3.5602021922691827\n",
    "\n",
    "# AGE', 'SEX_CTGO_CD', 'FLC' drop 하는게 베스트"
   ]
  },
  {
   "cell_type": "code",
   "execution_count": 24,
   "metadata": {},
   "outputs": [],
   "source": [
    "# 디코딩 \n",
    "case['CARD_SIDO_NM'] = encoders['CARD_SIDO_NM'].inverse_transform(case['CARD_SIDO_NM'])\n",
    "case['STD_CLSS_NM'] = encoders['STD_CLSS_NM'].inverse_transform(case['STD_CLSS_NM'])"
   ]
  },
  {
   "cell_type": "code",
   "execution_count": 26,
   "metadata": {},
   "outputs": [
    {
     "data": {
      "text/html": [
       "<div>\n",
       "<style scoped>\n",
       "    .dataframe tbody tr th:only-of-type {\n",
       "        vertical-align: middle;\n",
       "    }\n",
       "\n",
       "    .dataframe tbody tr th {\n",
       "        vertical-align: top;\n",
       "    }\n",
       "\n",
       "    .dataframe thead th {\n",
       "        text-align: right;\n",
       "    }\n",
       "</style>\n",
       "<table border=\"1\" class=\"dataframe\">\n",
       "  <thead>\n",
       "    <tr style=\"text-align: right;\">\n",
       "      <th></th>\n",
       "      <th>REG_YYMM</th>\n",
       "      <th>CARD_SIDO_NM</th>\n",
       "      <th>STD_CLSS_NM</th>\n",
       "      <th>AMT</th>\n",
       "    </tr>\n",
       "    <tr>\n",
       "      <th>id</th>\n",
       "      <th></th>\n",
       "      <th></th>\n",
       "      <th></th>\n",
       "      <th></th>\n",
       "    </tr>\n",
       "  </thead>\n",
       "  <tbody>\n",
       "    <tr>\n",
       "      <th>0</th>\n",
       "      <td>202004</td>\n",
       "      <td>강원</td>\n",
       "      <td>건강보조식품 소매업</td>\n",
       "      <td>5.264703e+08</td>\n",
       "    </tr>\n",
       "    <tr>\n",
       "      <th>1</th>\n",
       "      <td>202004</td>\n",
       "      <td>강원</td>\n",
       "      <td>골프장 운영업</td>\n",
       "      <td>2.386900e+09</td>\n",
       "    </tr>\n",
       "    <tr>\n",
       "      <th>2</th>\n",
       "      <td>202004</td>\n",
       "      <td>강원</td>\n",
       "      <td>과실 및 채소 소매업</td>\n",
       "      <td>3.279040e+08</td>\n",
       "    </tr>\n",
       "    <tr>\n",
       "      <th>3</th>\n",
       "      <td>202004</td>\n",
       "      <td>강원</td>\n",
       "      <td>관광 민예품 및 선물용품 소매업</td>\n",
       "      <td>5.535271e+07</td>\n",
       "    </tr>\n",
       "    <tr>\n",
       "      <th>4</th>\n",
       "      <td>202004</td>\n",
       "      <td>강원</td>\n",
       "      <td>그외 기타 분류안된 오락관련 서비스업</td>\n",
       "      <td>0.000000e+00</td>\n",
       "    </tr>\n",
       "    <tr>\n",
       "      <th>...</th>\n",
       "      <td>...</td>\n",
       "      <td>...</td>\n",
       "      <td>...</td>\n",
       "      <td>...</td>\n",
       "    </tr>\n",
       "    <tr>\n",
       "      <th>1389</th>\n",
       "      <td>202007</td>\n",
       "      <td>충북</td>\n",
       "      <td>피자 햄버거 샌드위치 및 유사 음식점업</td>\n",
       "      <td>1.247464e+08</td>\n",
       "    </tr>\n",
       "    <tr>\n",
       "      <th>1390</th>\n",
       "      <td>202007</td>\n",
       "      <td>충북</td>\n",
       "      <td>한식 음식점업</td>\n",
       "      <td>5.202751e+09</td>\n",
       "    </tr>\n",
       "    <tr>\n",
       "      <th>1391</th>\n",
       "      <td>202007</td>\n",
       "      <td>충북</td>\n",
       "      <td>호텔업</td>\n",
       "      <td>1.124047e+08</td>\n",
       "    </tr>\n",
       "    <tr>\n",
       "      <th>1392</th>\n",
       "      <td>202007</td>\n",
       "      <td>충북</td>\n",
       "      <td>화장품 및 방향제 소매업</td>\n",
       "      <td>1.162358e+08</td>\n",
       "    </tr>\n",
       "    <tr>\n",
       "      <th>1393</th>\n",
       "      <td>202007</td>\n",
       "      <td>충북</td>\n",
       "      <td>휴양콘도 운영업</td>\n",
       "      <td>3.307097e+08</td>\n",
       "    </tr>\n",
       "  </tbody>\n",
       "</table>\n",
       "<p>1394 rows × 4 columns</p>\n",
       "</div>"
      ],
      "text/plain": [
       "      REG_YYMM CARD_SIDO_NM            STD_CLSS_NM           AMT\n",
       "id                                                              \n",
       "0       202004           강원             건강보조식품 소매업  5.264703e+08\n",
       "1       202004           강원                골프장 운영업  2.386900e+09\n",
       "2       202004           강원            과실 및 채소 소매업  3.279040e+08\n",
       "3       202004           강원      관광 민예품 및 선물용품 소매업  5.535271e+07\n",
       "4       202004           강원   그외 기타 분류안된 오락관련 서비스업  0.000000e+00\n",
       "...        ...          ...                    ...           ...\n",
       "1389    202007           충북  피자 햄버거 샌드위치 및 유사 음식점업  1.247464e+08\n",
       "1390    202007           충북                한식 음식점업  5.202751e+09\n",
       "1391    202007           충북                    호텔업  1.124047e+08\n",
       "1392    202007           충북          화장품 및 방향제 소매업  1.162358e+08\n",
       "1393    202007           충북               휴양콘도 운영업  3.307097e+08\n",
       "\n",
       "[1394 rows x 4 columns]"
      ]
     },
     "execution_count": 26,
     "metadata": {},
     "output_type": "execute_result"
    }
   ],
   "source": [
    "submission = pd.read_csv(\"C:/Users/kyh20/Downloads/jeju_data_ver1/submission.csv\", index_col = 0)\n",
    "submission = submission.drop(['AMT'], axis=1)\n",
    "submission = submission.merge(case, left_on=['REG_YYMM', 'CARD_SIDO_NM', 'STD_CLSS_NM'], right_on=['REG_YYMM', 'CARD_SIDO_NM', 'STD_CLSS_NM'], how='left').fillna(0)\n",
    "submission.index.name = 'id'\n",
    "submission.to_csv('C:/Users/kyh20/Downloads/jeju_data_ver1/lgbm.csv', encoding='utf-8-sig')\n",
    "submission"
   ]
  }
 ],
 "metadata": {
  "kernelspec": {
   "display_name": "Python 3",
   "language": "python",
   "name": "python3"
  },
  "language_info": {
   "codemirror_mode": {
    "name": "ipython",
    "version": 3
   },
   "file_extension": ".py",
   "mimetype": "text/x-python",
   "name": "python",
   "nbconvert_exporter": "python",
   "pygments_lexer": "ipython3",
   "version": "3.6.9"
  }
 },
 "nbformat": 4,
 "nbformat_minor": 2
}
